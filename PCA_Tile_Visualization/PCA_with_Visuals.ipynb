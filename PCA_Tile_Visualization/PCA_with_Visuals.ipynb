{
 "cells": [
  {
   "cell_type": "code",
   "execution_count": null,
   "id": "7cb69f01-0084-45b7-a7ef-daa1ced37cb9",
   "metadata": {
    "id": "7cb69f01-0084-45b7-a7ef-daa1ced37cb9",
    "outputId": "59e75db3-dbca-4e73-c940-73354a0f712f"
   },
   "outputs": [
    {
     "name": "stdout",
     "output_type": "stream",
     "text": [
      "Successfully read DC_output.csv\n",
      "Successfully read Columbia_output.csv\n",
      "Successfully read Indianapolis_output.csv\n",
      "Successfully read Atlanta_output.csv\n",
      "Successfully read NYC_output.csv\n",
      "Successfully read Boston_output.csv\n",
      "Successfully read Raleigh_output.csv\n",
      "Successfully read Houston_output.csv\n",
      "All CSV files have been combined into 'combined_data.csv'\n"
     ]
    }
   ],
   "source": [
    "import requests\n",
    "import csv\n",
    "import os\n",
    "import pandas as pd\n",
    "from sklearn.decomposition import PCA\n",
    "from sklearn.preprocessing import MinMaxScaler\n",
    "\n",
    "# Set to directory with files\n",
    "# os.chdir('MY DIRECTORY')\n",
    "\n",
    "# Append dataframes from each file here.\n",
    "data_frames = []\n",
    "\n",
    "# Loop through all files in the current directory\n",
    "for filename in os.listdir():\n",
    "    # Only read in CSV files\n",
    "    if filename.endswith('.csv'):\n",
    "        try:\n",
    "            # Read the CSV file into a DataFrame\n",
    "            df = pd.read_csv(filename)\n",
    "            # Append the DataFrame to the list\n",
    "            data_frames.append(df)\n",
    "            print(f\"Successfully read {filename}\")\n",
    "        except Exception as e:\n",
    "            print(f\"Failed to read {filename}: {e}\")\n",
    "\n",
    "# Concatenate all DataFrames into a single DataFrame\n",
    "combined_data = pd.concat(data_frames, ignore_index=True)\n",
    "\n",
    "# Save the combined DataFrame to a new CSV file\n",
    "combined_data.to_csv('combined_data.csv', index=False)\n",
    "print(\"All CSV files have been combined into 'combined_data.csv'\")"
   ]
  },
  {
   "cell_type": "code",
   "execution_count": null,
   "id": "e95cd32f-2891-4c55-a552-84f6d3d03809",
   "metadata": {
    "id": "e95cd32f-2891-4c55-a552-84f6d3d03809"
   },
   "outputs": [],
   "source": [
    "# Use PCA to reduce the 5 dimensions into 3 dimensional space\n",
    "from sklearn.decomposition import PCA\n",
    "from sklearn.preprocessing import MinMaxScaler\n",
    "\n",
    "# Read data from combined dataset\n",
    "data = pd.read_csv('combined_data.csv')\n",
    "X = data.iloc[:, 5:10]\n",
    "\n",
    "# Apply PCA to reduce to 3 components\n",
    "pca = PCA(n_components=3)\n",
    "X_pca = pca.fit_transform(X)\n",
    "\n",
    "# Scale the resulting PCA components to fit within RGB range [0, 255]\n",
    "scaler = MinMaxScaler(feature_range=(0, 255))\n",
    "X_scaled = scaler.fit_transform(X_pca)\n",
    "\n",
    "# Convert the scaled result to integers\n",
    "X_rgb = X_scaled.astype(int)\n",
    "\n",
    "# Add values within X_rgb to a new column of data\n",
    "data['RGB'] = [tuple(rgb) for rgb in X_rgb]\n",
    "\n",
    "# Remove 5 dimensional features (original features) from data\n",
    "data.drop(data.columns[5:10], axis=1, inplace=True)\n",
    "\n",
    "# Output file name\n",
    "output_filename = \"combined_RGB.csv\"\n",
    "\n",
    "# Write data with RGB vectors to output file name\n",
    "data.to_csv(output_filename)"
   ]
  },
  {
   "cell_type": "code",
   "execution_count": null,
   "id": "a04cfb53-fb4b-4a2f-89d7-c86fedc3205e",
   "metadata": {
    "id": "a04cfb53-fb4b-4a2f-89d7-c86fedc3205e",
    "outputId": "6ba25dfd-09b1-4521-c089-638d8c999203"
   },
   "outputs": [
    {
     "data": {
      "text/html": [
       "<div>\n",
       "<style scoped>\n",
       "    .dataframe tbody tr th:only-of-type {\n",
       "        vertical-align: middle;\n",
       "    }\n",
       "\n",
       "    .dataframe tbody tr th {\n",
       "        vertical-align: top;\n",
       "    }\n",
       "\n",
       "    .dataframe thead th {\n",
       "        text-align: right;\n",
       "    }\n",
       "</style>\n",
       "<table border=\"1\" class=\"dataframe\">\n",
       "  <thead>\n",
       "    <tr style=\"text-align: right;\">\n",
       "      <th></th>\n",
       "      <th>Date</th>\n",
       "      <th>Neighbor Number</th>\n",
       "      <th>Reference</th>\n",
       "      <th>Latitude</th>\n",
       "      <th>Longitude</th>\n",
       "      <th>RGB</th>\n",
       "      <th>FROST</th>\n",
       "    </tr>\n",
       "  </thead>\n",
       "  <tbody>\n",
       "    <tr>\n",
       "      <th>235228</th>\n",
       "      <td>20000101</td>\n",
       "      <td>1</td>\n",
       "      <td>Atlanta</td>\n",
       "      <td>34.2501</td>\n",
       "      <td>-83.7635</td>\n",
       "      <td>(105, 62, 119)</td>\n",
       "      <td>0</td>\n",
       "    </tr>\n",
       "    <tr>\n",
       "      <th>243629</th>\n",
       "      <td>20000101</td>\n",
       "      <td>2</td>\n",
       "      <td>Atlanta</td>\n",
       "      <td>34.7501</td>\n",
       "      <td>-83.7635</td>\n",
       "      <td>(111, 65, 113)</td>\n",
       "      <td>0</td>\n",
       "    </tr>\n",
       "    <tr>\n",
       "      <th>252030</th>\n",
       "      <td>20000101</td>\n",
       "      <td>3</td>\n",
       "      <td>Atlanta</td>\n",
       "      <td>35.2501</td>\n",
       "      <td>-83.7635</td>\n",
       "      <td>(109, 96, 128)</td>\n",
       "      <td>0</td>\n",
       "    </tr>\n",
       "    <tr>\n",
       "      <th>260431</th>\n",
       "      <td>20000101</td>\n",
       "      <td>4</td>\n",
       "      <td>Atlanta</td>\n",
       "      <td>34.2501</td>\n",
       "      <td>-84.3885</td>\n",
       "      <td>(103, 68, 115)</td>\n",
       "      <td>0</td>\n",
       "    </tr>\n",
       "    <tr>\n",
       "      <th>226827</th>\n",
       "      <td>20000101</td>\n",
       "      <td>5</td>\n",
       "      <td>Atlanta</td>\n",
       "      <td>34.7501</td>\n",
       "      <td>-84.3885</td>\n",
       "      <td>(102, 69, 120)</td>\n",
       "      <td>0</td>\n",
       "    </tr>\n",
       "    <tr>\n",
       "      <th>268832</th>\n",
       "      <td>20000101</td>\n",
       "      <td>6</td>\n",
       "      <td>Atlanta</td>\n",
       "      <td>35.2501</td>\n",
       "      <td>-84.3885</td>\n",
       "      <td>(98, 66, 137)</td>\n",
       "      <td>0</td>\n",
       "    </tr>\n",
       "    <tr>\n",
       "      <th>277233</th>\n",
       "      <td>20000101</td>\n",
       "      <td>7</td>\n",
       "      <td>Atlanta</td>\n",
       "      <td>34.2501</td>\n",
       "      <td>-85.0135</td>\n",
       "      <td>(97, 57, 136)</td>\n",
       "      <td>0</td>\n",
       "    </tr>\n",
       "    <tr>\n",
       "      <th>285634</th>\n",
       "      <td>20000101</td>\n",
       "      <td>8</td>\n",
       "      <td>Atlanta</td>\n",
       "      <td>34.7501</td>\n",
       "      <td>-85.0135</td>\n",
       "      <td>(99, 58, 132)</td>\n",
       "      <td>0</td>\n",
       "    </tr>\n",
       "    <tr>\n",
       "      <th>294035</th>\n",
       "      <td>20000101</td>\n",
       "      <td>9</td>\n",
       "      <td>Atlanta</td>\n",
       "      <td>35.2501</td>\n",
       "      <td>-85.0135</td>\n",
       "      <td>(104, 57, 128)</td>\n",
       "      <td>0</td>\n",
       "    </tr>\n",
       "  </tbody>\n",
       "</table>\n",
       "</div>"
      ],
      "text/plain": [
       "            Date  Neighbor Number Reference  Latitude  Longitude  \\\n",
       "235228  20000101                1   Atlanta   34.2501   -83.7635   \n",
       "243629  20000101                2   Atlanta   34.7501   -83.7635   \n",
       "252030  20000101                3   Atlanta   35.2501   -83.7635   \n",
       "260431  20000101                4   Atlanta   34.2501   -84.3885   \n",
       "226827  20000101                5   Atlanta   34.7501   -84.3885   \n",
       "268832  20000101                6   Atlanta   35.2501   -84.3885   \n",
       "277233  20000101                7   Atlanta   34.2501   -85.0135   \n",
       "285634  20000101                8   Atlanta   34.7501   -85.0135   \n",
       "294035  20000101                9   Atlanta   35.2501   -85.0135   \n",
       "\n",
       "                   RGB  FROST  \n",
       "235228  (105, 62, 119)      0  \n",
       "243629  (111, 65, 113)      0  \n",
       "252030  (109, 96, 128)      0  \n",
       "260431  (103, 68, 115)      0  \n",
       "226827  (102, 69, 120)      0  \n",
       "268832   (98, 66, 137)      0  \n",
       "277233   (97, 57, 136)      0  \n",
       "285634   (99, 58, 132)      0  \n",
       "294035  (104, 57, 128)      0  "
      ]
     },
     "execution_count": 134,
     "metadata": {},
     "output_type": "execute_result"
    }
   ],
   "source": [
    "import numpy as np\n",
    "\n",
    "# Now let's read in the combined_RGB file\n",
    "data = pd.read_csv(\"combined_RGB.csv\")\n",
    "\n",
    "# Group data by date and reference location (time series for each location)\n",
    "grouped = data.groupby(['Date', 'Reference'])\n",
    "\n",
    "### Proof of concept. This will need to be wrapped into a single function for all timepoints for all locations in final model ###\n",
    "\n",
    "# Set a group manually\n",
    "group = grouped.get_group((20000101, \"Atlanta\"))\n",
    "\n",
    "# Sort group by neighbor numbers to make it easier to plot on a grid\n",
    "sorted_group = group.sort_values(by='Neighbor Number', ascending=True)\n",
    "sorted_group"
   ]
  },
  {
   "cell_type": "code",
   "execution_count": null,
   "id": "567dd662-9072-4fae-a596-5bef298d1ad9",
   "metadata": {
    "id": "567dd662-9072-4fae-a596-5bef298d1ad9",
    "outputId": "9831381d-1d56-4a7f-9ba3-5e89b037065d"
   },
   "outputs": [
    {
     "data": {
      "image/png": "[encoded data removed]",
      "text/plain": [
       "<Figure size 640x480 with 1 Axes>"
      ]
     },
     "metadata": {},
     "output_type": "display_data"
    }
   ],
   "source": [
    "import matplotlib.pyplot as plt\n",
    "\n",
    "# Now that we have the sorted neighbors for the given group, we can paint the tiles on our 3x3 grid\n",
    "rgb_values = sorted_group['RGB'].apply(eval).tolist()\n",
    "# Reshape into 3x3 grid for R, G, and B integer values\n",
    "rgb_grid = np.array(rgb_values).reshape(3, 3, 3)\n",
    "\n",
    "# Create and show the image - the 3x3 grid of pixels\n",
    "plt.imshow(rgb_grid)\n",
    "plt.axis('off')\n",
    "plt.show()"
   ]
  },
  {
   "cell_type": "code",
   "execution_count": null,
   "id": "8c7ccbbe-8e4a-4f17-b8f1-e11899c1dcef",
   "metadata": {
    "id": "8c7ccbbe-8e4a-4f17-b8f1-e11899c1dcef",
    "outputId": "118616d7-cf49-4e08-9002-5a386732cfe3"
   },
   "outputs": [
    {
     "data": {
      "image/png": "[encoded data removed]",
      "text/plain": [
       "<Figure size 640x480 with 1 Axes>"
      ]
     },
     "metadata": {},
     "output_type": "display_data"
    }
   ],
   "source": [
    "# Try for a different group, Houston, in summer\n",
    "group = grouped.get_group((20080704, \"Houston\"))\n",
    "\n",
    "sorted_group = group.sort_values(by='Neighbor Number', ascending=True)\n",
    "\n",
    "rgb_values = sorted_group['RGB'].apply(eval).tolist()\n",
    "rgb_grid = np.array(rgb_values).reshape(3, 3, 3)  # Reshape into 3x3 grid with 3 color channels\n",
    "\n",
    "# Create and show the image (3x3 grid of pixels)\n",
    "plt.imshow(rgb_grid)\n",
    "plt.axis('off')  # Hide axes for better display\n",
    "plt.show()"
   ]
  },
  {
   "cell_type": "code",
   "execution_count": null,
   "id": "ad69ead0-8fa7-4a0a-83f5-fe2cce2e739b",
   "metadata": {
    "id": "ad69ead0-8fa7-4a0a-83f5-fe2cce2e739b",
    "outputId": "532db4eb-fc0f-4289-9037-e8c7a7770368"
   },
   "outputs": [
    {
     "data": {
      "image/png": "[encoded data removed]",
      "text/plain": [
       "<Figure size 640x480 with 1 Axes>"
      ]
     },
     "metadata": {},
     "output_type": "display_data"
    }
   ],
   "source": [
    "# Try for a different group, Houston, in summer\n",
    "group = grouped.get_group((20100204, \"Boston\"))\n",
    "\n",
    "sorted_group = group.sort_values(by='Neighbor Number', ascending=True)\n",
    "\n",
    "rgb_values = sorted_group['RGB'].apply(eval).tolist()\n",
    "rgb_grid = np.array(rgb_values).reshape(3, 3, 3)  # Reshape into 3x3 grid with 3 color channels\n",
    "\n",
    "# Create and show the image (3x3 grid of pixels)\n",
    "plt.imshow(rgb_grid)\n",
    "plt.axis('off')  # Hide axes for better display\n",
    "plt.show()"
   ]
  },
  {
   "cell_type": "code",
   "execution_count": null,
   "id": "d271380c-bfe0-4731-a19b-d54ee82599e7",
   "metadata": {
    "id": "d271380c-bfe0-4731-a19b-d54ee82599e7"
   },
   "outputs": [],
   "source": []
  }
 ],
 "metadata": {
  "colab": {
   "provenance": []
  },
  "kernelspec": {
   "display_name": "Python 3 (ipykernel)",
   "language": "python",
   "name": "python3"
  },
  "language_info": {
   "codemirror_mode": {
    "name": "ipython",
    "version": 3
   },
   "file_extension": ".py",
   "mimetype": "text/x-python",
   "name": "python",
   "nbconvert_exporter": "python",
   "pygments_lexer": "ipython3",
   "version": "3.11.5"
  }
 },
 "nbformat": 4,
 "nbformat_minor": 5
}
