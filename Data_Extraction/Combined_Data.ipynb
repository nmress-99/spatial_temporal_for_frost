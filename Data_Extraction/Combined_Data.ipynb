{
 "cells": [
  {
   "cell_type": "code",
   "execution_count": 3,
   "id": "3c51bec3-c92e-46e6-a7ab-84224db99844",
   "metadata": {},
   "outputs": [
    {
     "name": "stdout",
     "output_type": "stream",
     "text": [
      "Successfully read Atlanta_Neighbors_Frost.csv\n",
      "Successfully read Boston_Neighbors_Frost.csv\n",
      "Successfully read Columbia_Neighbors_Frost.csv\n",
      "Successfully read DC_Neighbors_Frost.csv\n",
      "Successfully read Houston_Neighbors_Frost.csv\n",
      "Successfully read Indianapolis_Neighbors_Frost.csv\n",
      "Successfully read NY_Neighbors_Frost.csv\n",
      "Successfully read Raleigh_Neighbors_Frost.csv\n",
      "All CSV files have been combined into 'combined_data.csv'\n"
     ]
    }
   ],
   "source": [
    "import os\n",
    "import pandas as pd\n",
    "\n",
    "# Append dataframes from each file here.\n",
    "data_frames = []\n",
    "# Put in directory where files are located, if not default location"
    "# os.chdir('MY DIRECTORY')\n",
    "# Loop through all files in the current directory\n",
    "for filename in os.listdir():\n",
    "    # Only read in CSV files\n",
    "    if filename.endswith('.csv'):\n",
    "        try:\n",
    "            # Read the CSV file into a DataFrame\n",
    "            df = pd.read_csv(filename)\n",
    "            # Append the DataFrame to the list\n",
    "            data_frames.append(df)\n",
    "            print(f\"Successfully read {filename}\")\n",
    "        except Exception as e:\n",
    "            print(f\"Failed to read {filename}: {e}\")\n",
    "\n",
    "# Concatenate all DataFrames into a single DataFrame\n",
    "combined_data = pd.concat(data_frames, ignore_index=True)\n",
    "\n",
    "# Save the combined DataFrame to a new CSV file\n",
    "combined_data.to_csv('combined_data.csv', index=False)\n",
    "print(\"All CSV files have been combined into 'combined_data.csv'\")"
   ]
  },
  {
   "cell_type": "code",
   "execution_count": null,
   "id": "7aad5256-694e-4e91-8e9d-203e3285cf0a",
   "metadata": {},
   "outputs": [],
   "source": []
  }
 ],
 "metadata": {
  "kernelspec": {
   "display_name": "Python 3 (ipykernel)",
   "language": "python",
   "name": "python3"
  },
  "language_info": {
   "codemirror_mode": {
    "name": "ipython",
    "version": 3
   },
   "file_extension": ".py",
   "mimetype": "text/x-python",
   "name": "python",
   "nbconvert_exporter": "python",
   "pygments_lexer": "ipython3",
   "version": "3.11.5"
  }
 },
 "nbformat": 4,
 "nbformat_minor": 5
}
